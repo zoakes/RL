{
 "cells": [
  {
   "cell_type": "code",
   "execution_count": 1,
   "metadata": {},
   "outputs": [],
   "source": [
    "def sharpe_ratio(rets):\n",
    "    return rets.mean() / rets.std()"
   ]
  },
  {
   "cell_type": "code",
   "execution_count": 2,
   "metadata": {},
   "outputs": [],
   "source": [
    "import numpy as np\n",
    "\n",
    "def positions(x, theta):\n",
    "    M = len(theta) - 2\n",
    "    T = len(x)\n",
    "    Ft = np.zeros(T)\n",
    "    for t in range(M, T):\n",
    "        xt = np.concatenate([[1], x[t - M:t], [Ft[t - 1]]])\n",
    "        Ft[t] = np.tanh(np.dot(theta, xt))\n",
    "    return Ft"
   ]
  },
  {
   "cell_type": "code",
   "execution_count": 3,
   "metadata": {},
   "outputs": [],
   "source": [
    "def returns(Ft, x, delta):\n",
    "    T = len(x)\n",
    "    rets = Ft[0:T - 1] * x[1:T] - delta * np.abs(Ft[1:T] - Ft[0:T - 1])\n",
    "    return np.concatenate([[0], rets])"
   ]
  },
  {
   "cell_type": "code",
   "execution_count": 4,
   "metadata": {},
   "outputs": [],
   "source": [
    "def gradient(x, theta, delta):\n",
    "    Ft = positions(x, theta)\n",
    "    R = returns(Ft, x, delta)\n",
    "    T = len(x)\n",
    "    M = len(theta) - 2\n",
    "    \n",
    "    A = np.mean(R)\n",
    "    B = np.mean(np.square(R))\n",
    "    S = A / np.sqrt(B - A ** 2)\n",
    "\n",
    "    dSdA = S * (1 + S ** 2) / A\n",
    "    dSdB = -S ** 3 / 2 / A ** 2\n",
    "    dAdR = 1. / T\n",
    "    dBdR = 2. / T * R\n",
    "    \n",
    "    grad = np.zeros(M + 2)  # initialize gradient\n",
    "    dFpdtheta = np.zeros(M + 2)  # for storing previous dFdtheta\n",
    "    \n",
    "    for t in range(M, T):\n",
    "        xt = np.concatenate([[1], x[t - M:t], [Ft[t-1]]])\n",
    "        dRdF = -delta * np.sign(Ft[t] - Ft[t-1])\n",
    "        dRdFp = x[t] + delta * np.sign(Ft[t] - Ft[t-1])\n",
    "        dFdtheta = (1 - Ft[t] ** 2) * (xt + theta[-1] * dFpdtheta)\n",
    "        dSdtheta = (dSdA * dAdR + dSdB * dBdR[t]) * (dRdF * dFdtheta + dRdFp * dFpdtheta)\n",
    "        grad = grad + dSdtheta\n",
    "        dFpdtheta = dFdtheta\n",
    "\n",
    "        \n",
    "    return grad, S"
   ]
  },
  {
   "cell_type": "code",
   "execution_count": 5,
   "metadata": {},
   "outputs": [],
   "source": [
    "def train(x, epochs=2000, M=8, commission=0.0025, learning_rate = 0.3):\n",
    "    theta = np.random.rand(M + 2)\n",
    "    sharpes = np.zeros(epochs) # store sharpes over time\n",
    "    for i in range(epochs):\n",
    "        grad, sharpe = gradient(x, theta, commission)\n",
    "        theta = theta + grad * learning_rate\n",
    "\n",
    "        sharpes[i] = sharpe\n",
    "    \n",
    "    \n",
    "    print(\"finished training\")\n",
    "    return theta, sharpes"
   ]
  },
  {
   "cell_type": "code",
   "execution_count": 11,
   "metadata": {},
   "outputs": [],
   "source": [
    "%matplotlib inline\n",
    "import matplotlib.pyplot as plt\n",
    "plt.rcParams[\"figure.figsize\"] = (5, 3) # (w, h)\n",
    "plt.rcParams[\"figure.dpi\"] = 150\n",
    "import pandas as pd\n",
    "\n",
    "btc = pd.read_csv(\"bitstampUSD.csv\", names=[\"utc\", \"price\", \"volume\"]).set_index('utc')\n",
    "btc.index = pd.to_datetime(btc.index, unit='s')\n",
    "rets = btc['price'].diff()[1:]"
   ]
  },
  {
   "cell_type": "code",
   "execution_count": 12,
   "metadata": {},
   "outputs": [],
   "source": [
    "x = np.array(rets)\n",
    "\n",
    "N = 1000\n",
    "P = 200\n",
    "x_train = x[-(N+P):-P]\n",
    "x_test = x[-P:]\n",
    "\n",
    "std = np.std(x_train)\n",
    "mean = np.mean(x_train)\n",
    "\n",
    "x_train = (x_train - mean) / std\n",
    "x_test = (x_test - mean) / std"
   ]
  },
  {
   "cell_type": "code",
   "execution_count": null,
   "metadata": {},
   "outputs": [],
   "source": [
    "np.random.seed(0) #8 tick lookback\n",
    "theta, sharpes = train(x_train, epochs=2000, M=8, commission=0.0025, learning_rate=0.3)"
   ]
  },
  {
   "cell_type": "code",
   "execution_count": 9,
   "metadata": {},
   "outputs": [
    {
     "ename": "NameError",
     "evalue": "name 'sharpes' is not defined",
     "output_type": "error",
     "traceback": [
      "\u001b[0;31m---------------------------------------------------------------------------\u001b[0m",
      "\u001b[0;31mNameError\u001b[0m                                 Traceback (most recent call last)",
      "\u001b[0;32m<ipython-input-9-25e3eacc5cd4>\u001b[0m in \u001b[0;36m<module>\u001b[0;34m\u001b[0m\n\u001b[0;32m----> 1\u001b[0;31m \u001b[0mplt\u001b[0m\u001b[0;34m.\u001b[0m\u001b[0mplot\u001b[0m\u001b[0;34m(\u001b[0m\u001b[0msharpes\u001b[0m\u001b[0;34m)\u001b[0m\u001b[0;34m\u001b[0m\u001b[0;34m\u001b[0m\u001b[0m\n\u001b[0m\u001b[1;32m      2\u001b[0m \u001b[0mplt\u001b[0m\u001b[0;34m.\u001b[0m\u001b[0mxlabel\u001b[0m\u001b[0;34m(\u001b[0m\u001b[0;34m'Epoch Number'\u001b[0m\u001b[0;34m)\u001b[0m\u001b[0;34m\u001b[0m\u001b[0;34m\u001b[0m\u001b[0m\n\u001b[1;32m      3\u001b[0m \u001b[0mplt\u001b[0m\u001b[0;34m.\u001b[0m\u001b[0mylabel\u001b[0m\u001b[0;34m(\u001b[0m\u001b[0;34m'Sharpe Ratio'\u001b[0m\u001b[0;34m)\u001b[0m\u001b[0;34m;\u001b[0m\u001b[0;34m\u001b[0m\u001b[0;34m\u001b[0m\u001b[0m\n",
      "\u001b[0;31mNameError\u001b[0m: name 'sharpes' is not defined"
     ]
    }
   ],
   "source": [
    "plt.plot(sharpes)\n",
    "plt.xlabel('Epoch Number')\n",
    "plt.ylabel('Sharpe Ratio')#;"
   ]
  },
  {
   "cell_type": "code",
   "execution_count": 10,
   "metadata": {},
   "outputs": [
    {
     "ename": "NameError",
     "evalue": "name 'x_train' is not defined",
     "output_type": "error",
     "traceback": [
      "\u001b[0;31m---------------------------------------------------------------------------\u001b[0m",
      "\u001b[0;31mNameError\u001b[0m                                 Traceback (most recent call last)",
      "\u001b[0;32m<ipython-input-10-492939fc902d>\u001b[0m in \u001b[0;36m<module>\u001b[0;34m\u001b[0m\n\u001b[0;32m----> 1\u001b[0;31m \u001b[0mtrain_returns\u001b[0m \u001b[0;34m=\u001b[0m \u001b[0mreturns\u001b[0m\u001b[0;34m(\u001b[0m\u001b[0mpositions\u001b[0m\u001b[0;34m(\u001b[0m\u001b[0mx_train\u001b[0m\u001b[0;34m,\u001b[0m \u001b[0mtheta\u001b[0m\u001b[0;34m)\u001b[0m\u001b[0;34m,\u001b[0m \u001b[0mx_train\u001b[0m\u001b[0;34m,\u001b[0m \u001b[0;36m0.0025\u001b[0m\u001b[0;34m)\u001b[0m\u001b[0;34m\u001b[0m\u001b[0;34m\u001b[0m\u001b[0m\n\u001b[0m\u001b[1;32m      2\u001b[0m \u001b[0mplt\u001b[0m\u001b[0;34m.\u001b[0m\u001b[0mplot\u001b[0m\u001b[0;34m(\u001b[0m\u001b[0;34m(\u001b[0m\u001b[0mtrain_returns\u001b[0m\u001b[0;34m)\u001b[0m\u001b[0;34m.\u001b[0m\u001b[0mcumsum\u001b[0m\u001b[0;34m(\u001b[0m\u001b[0;34m)\u001b[0m\u001b[0;34m,\u001b[0m \u001b[0mlabel\u001b[0m\u001b[0;34m=\u001b[0m\u001b[0;34m\"Reinforcement Learning Model\"\u001b[0m\u001b[0;34m,\u001b[0m \u001b[0mlinewidth\u001b[0m\u001b[0;34m=\u001b[0m\u001b[0;36m1\u001b[0m\u001b[0;34m)\u001b[0m\u001b[0;34m\u001b[0m\u001b[0;34m\u001b[0m\u001b[0m\n\u001b[1;32m      3\u001b[0m \u001b[0mplt\u001b[0m\u001b[0;34m.\u001b[0m\u001b[0mplot\u001b[0m\u001b[0;34m(\u001b[0m\u001b[0mx_train\u001b[0m\u001b[0;34m.\u001b[0m\u001b[0mcumsum\u001b[0m\u001b[0;34m(\u001b[0m\u001b[0;34m)\u001b[0m\u001b[0;34m,\u001b[0m \u001b[0mlabel\u001b[0m\u001b[0;34m=\u001b[0m\u001b[0;34m\"Buy and Hold\"\u001b[0m\u001b[0;34m,\u001b[0m \u001b[0mlinewidth\u001b[0m\u001b[0;34m=\u001b[0m\u001b[0;36m1\u001b[0m\u001b[0;34m)\u001b[0m\u001b[0;34m\u001b[0m\u001b[0;34m\u001b[0m\u001b[0m\n\u001b[1;32m      4\u001b[0m \u001b[0mplt\u001b[0m\u001b[0;34m.\u001b[0m\u001b[0mxlabel\u001b[0m\u001b[0;34m(\u001b[0m\u001b[0;34m'Ticks'\u001b[0m\u001b[0;34m)\u001b[0m\u001b[0;34m\u001b[0m\u001b[0;34m\u001b[0m\u001b[0m\n\u001b[1;32m      5\u001b[0m \u001b[0mplt\u001b[0m\u001b[0;34m.\u001b[0m\u001b[0mylabel\u001b[0m\u001b[0;34m(\u001b[0m\u001b[0;34m'Cumulative Returns'\u001b[0m\u001b[0;34m)\u001b[0m\u001b[0;34m;\u001b[0m\u001b[0;34m\u001b[0m\u001b[0;34m\u001b[0m\u001b[0m\n",
      "\u001b[0;31mNameError\u001b[0m: name 'x_train' is not defined"
     ]
    }
   ],
   "source": [
    "train_returns = returns(positions(x_train, theta), x_train, 0.0025)\n",
    "plt.plot((train_returns).cumsum(), label=\"Reinforcement Learning Model\", linewidth=1)\n",
    "plt.plot(x_train.cumsum(), label=\"Buy and Hold\", linewidth=1)\n",
    "plt.xlabel('Ticks')\n",
    "plt.ylabel('Cumulative Returns');\n",
    "plt.legend()\n",
    "plt.title(\"RL Model vs. Buy and Hold - Training Data\");"
   ]
  },
  {
   "cell_type": "code",
   "execution_count": null,
   "metadata": {},
   "outputs": [],
   "source": [
    "test_returns = returns(positions(x_test, theta), x_test, 0.0025)\n",
    "plt.plot((test_returns).cumsum(), label=\"Reinforcement Learning Model\", linewidth=1)\n",
    "plt.plot(x_test.cumsum(), label=\"Buy and Hold\", linewidth=1)\n",
    "plt.xlabel('Ticks')\n",
    "plt.ylabel('Cumulative Returns');\n",
    "plt.legend()\n",
    "plt.title(\"RL Model vs. Buy and Hold - Test Data\");"
   ]
  }
 ],
 "metadata": {
  "kernelspec": {
   "display_name": "Python 3",
   "language": "python",
   "name": "python3"
  },
  "language_info": {
   "codemirror_mode": {
    "name": "ipython",
    "version": 3
   },
   "file_extension": ".py",
   "mimetype": "text/x-python",
   "name": "python",
   "nbconvert_exporter": "python",
   "pygments_lexer": "ipython3",
   "version": "3.7.4"
  }
 },
 "nbformat": 4,
 "nbformat_minor": 4
}
